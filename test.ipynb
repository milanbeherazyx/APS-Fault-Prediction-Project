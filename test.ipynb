{
 "cells": [
  {
   "cell_type": "code",
   "execution_count": 1,
   "metadata": {},
   "outputs": [
    {
     "name": "stdout",
     "output_type": "stream",
     "text": [
      "Reading .env file\n"
     ]
    }
   ],
   "source": [
    "from sensor.utils import read_yaml_file"
   ]
  },
  {
   "cell_type": "code",
   "execution_count": 2,
   "metadata": {},
   "outputs": [
    {
     "data": {
      "text/plain": [
       "{'drop_columns': ['br_000',\n",
       "  'bq_000',\n",
       "  'bp_000',\n",
       "  'ab_000',\n",
       "  'cr_000',\n",
       "  'bo_000',\n",
       "  'bn_000'],\n",
       " 'target_column': 'class',\n",
       " 'required_columns': ['class',\n",
       "  'aa_000',\n",
       "  'ac_000',\n",
       "  'ad_000',\n",
       "  'ae_000',\n",
       "  'af_000',\n",
       "  'ag_000',\n",
       "  'ag_001',\n",
       "  'ag_002',\n",
       "  'ag_003',\n",
       "  'ag_004',\n",
       "  'ag_005',\n",
       "  'ag_006',\n",
       "  'ag_007',\n",
       "  'ag_008',\n",
       "  'ag_009',\n",
       "  'ah_000',\n",
       "  'ai_000',\n",
       "  'aj_000',\n",
       "  'ak_000',\n",
       "  'al_000',\n",
       "  'am_0',\n",
       "  'an_000',\n",
       "  'ao_000',\n",
       "  'ap_000',\n",
       "  'aq_000',\n",
       "  'ar_000',\n",
       "  'as_000',\n",
       "  'at_000',\n",
       "  'au_000',\n",
       "  'av_000',\n",
       "  'ax_000',\n",
       "  'ay_000',\n",
       "  'ay_001',\n",
       "  'ay_002',\n",
       "  'ay_003',\n",
       "  'ay_004',\n",
       "  'ay_005',\n",
       "  'ay_006',\n",
       "  'ay_007',\n",
       "  'ay_008',\n",
       "  'ay_009',\n",
       "  'az_000',\n",
       "  'az_001',\n",
       "  'az_002',\n",
       "  'az_003',\n",
       "  'az_004',\n",
       "  'az_005',\n",
       "  'az_006',\n",
       "  'az_007',\n",
       "  'az_008',\n",
       "  'az_009',\n",
       "  'ba_000',\n",
       "  'ba_001',\n",
       "  'ba_002',\n",
       "  'ba_003',\n",
       "  'ba_004',\n",
       "  'ba_005',\n",
       "  'ba_006',\n",
       "  'ba_007',\n",
       "  'ba_008',\n",
       "  'ba_009',\n",
       "  'bb_000',\n",
       "  'bc_000',\n",
       "  'bd_000',\n",
       "  'be_000',\n",
       "  'bf_000',\n",
       "  'bg_000',\n",
       "  'bh_000',\n",
       "  'bi_000',\n",
       "  'bj_000',\n",
       "  'bk_000',\n",
       "  'bl_000',\n",
       "  'bm_000',\n",
       "  'bs_000',\n",
       "  'bt_000',\n",
       "  'bu_000',\n",
       "  'bv_000',\n",
       "  'bx_000',\n",
       "  'by_000',\n",
       "  'bz_000',\n",
       "  'ca_000',\n",
       "  'cb_000',\n",
       "  'cc_000',\n",
       "  'cd_000',\n",
       "  'ce_000',\n",
       "  'cf_000',\n",
       "  'cg_000',\n",
       "  'ch_000',\n",
       "  'ci_000',\n",
       "  'cj_000',\n",
       "  'ck_000',\n",
       "  'cl_000',\n",
       "  'cm_000',\n",
       "  'cn_000',\n",
       "  'cn_001',\n",
       "  'cn_002',\n",
       "  'cn_003',\n",
       "  'cn_004',\n",
       "  'cn_005',\n",
       "  'cn_006',\n",
       "  'cn_007',\n",
       "  'cn_008',\n",
       "  'cn_009',\n",
       "  'co_000',\n",
       "  'cp_000',\n",
       "  'cq_000',\n",
       "  'cs_000',\n",
       "  'cs_001',\n",
       "  'cs_002',\n",
       "  'cs_003',\n",
       "  'cs_004',\n",
       "  'cs_005',\n",
       "  'cs_006',\n",
       "  'cs_007',\n",
       "  'cs_008',\n",
       "  'cs_009',\n",
       "  'ct_000',\n",
       "  'cu_000',\n",
       "  'cv_000',\n",
       "  'cx_000',\n",
       "  'cy_000',\n",
       "  'cz_000',\n",
       "  'da_000',\n",
       "  'db_000',\n",
       "  'dc_000',\n",
       "  'dd_000',\n",
       "  'de_000',\n",
       "  'df_000',\n",
       "  'dg_000',\n",
       "  'dh_000',\n",
       "  'di_000',\n",
       "  'dj_000',\n",
       "  'dk_000',\n",
       "  'dl_000',\n",
       "  'dm_000',\n",
       "  'dn_000',\n",
       "  'do_000',\n",
       "  'dp_000',\n",
       "  'dq_000',\n",
       "  'dr_000',\n",
       "  'ds_000',\n",
       "  'dt_000',\n",
       "  'du_000',\n",
       "  'dv_000',\n",
       "  'dx_000',\n",
       "  'dy_000',\n",
       "  'dz_000',\n",
       "  'ea_000',\n",
       "  'eb_000',\n",
       "  'ec_00',\n",
       "  'ed_000',\n",
       "  'ee_000',\n",
       "  'ee_001',\n",
       "  'ee_002',\n",
       "  'ee_003',\n",
       "  'ee_004',\n",
       "  'ee_005',\n",
       "  'ee_006',\n",
       "  'ee_007',\n",
       "  'ee_008',\n",
       "  'ee_009',\n",
       "  'ef_000',\n",
       "  'eg_000']}"
      ]
     },
     "execution_count": 2,
     "metadata": {},
     "output_type": "execute_result"
    }
   ],
   "source": [
    "read_yaml_file(\"schema.yaml\")"
   ]
  },
  {
   "cell_type": "code",
   "execution_count": 3,
   "metadata": {},
   "outputs": [],
   "source": [
    "import pandas as pd"
   ]
  },
  {
   "cell_type": "code",
   "execution_count": 4,
   "metadata": {},
   "outputs": [],
   "source": [
    "df = pd.read_csv(\"artifact/07_22_2023_20_31_56/data_ingestion/dataset/train.csv\")"
   ]
  },
  {
   "cell_type": "code",
   "execution_count": 5,
   "metadata": {},
   "outputs": [],
   "source": [
    "null_report = (df.isna().sum()*100)/df.shape[0]"
   ]
  },
  {
   "cell_type": "code",
   "execution_count": 6,
   "metadata": {},
   "outputs": [
    {
     "data": {
      "text/plain": [
       "['ab_000',\n",
       " 'ac_000',\n",
       " 'ad_000',\n",
       " 'ak_000',\n",
       " 'bk_000',\n",
       " 'bl_000',\n",
       " 'bm_000',\n",
       " 'bn_000',\n",
       " 'bo_000',\n",
       " 'bp_000',\n",
       " 'bq_000',\n",
       " 'br_000',\n",
       " 'bx_000',\n",
       " 'ca_000',\n",
       " 'cc_000',\n",
       " 'cf_000',\n",
       " 'cg_000',\n",
       " 'ch_000',\n",
       " 'cl_000',\n",
       " 'cm_000',\n",
       " 'co_000',\n",
       " 'cr_000',\n",
       " 'ct_000',\n",
       " 'cu_000',\n",
       " 'cv_000',\n",
       " 'cx_000',\n",
       " 'cy_000',\n",
       " 'cz_000',\n",
       " 'da_000',\n",
       " 'db_000',\n",
       " 'dc_000',\n",
       " 'df_000',\n",
       " 'dg_000',\n",
       " 'dh_000',\n",
       " 'di_000',\n",
       " 'dj_000',\n",
       " 'dk_000',\n",
       " 'dl_000',\n",
       " 'dm_000',\n",
       " 'eb_000',\n",
       " 'ec_00',\n",
       " 'ed_000']"
      ]
     },
     "execution_count": 6,
     "metadata": {},
     "output_type": "execute_result"
    }
   ],
   "source": [
    "list(null_report[null_report>5].index)"
   ]
  },
  {
   "cell_type": "code",
   "execution_count": 3,
   "metadata": {},
   "outputs": [],
   "source": [
    "from glob import glob\n",
    "from sensor.entity.config_entity import BatchPredictionConfig"
   ]
  },
  {
   "cell_type": "code",
   "execution_count": 4,
   "metadata": {},
   "outputs": [],
   "source": [
    "b = BatchPredictionConfig()"
   ]
  },
  {
   "cell_type": "code",
   "execution_count": 7,
   "metadata": {},
   "outputs": [
    {
     "data": {
      "text/plain": [
       "['data/inbox/aps_failure_training_set1.csv']"
      ]
     },
     "execution_count": 7,
     "metadata": {},
     "output_type": "execute_result"
    }
   ],
   "source": []
  },
  {
   "cell_type": "code",
   "execution_count": null,
   "metadata": {},
   "outputs": [],
   "source": []
  }
 ],
 "metadata": {
  "kernelspec": {
   "display_name": "Python 3.8.10 64-bit",
   "language": "python",
   "name": "python3"
  },
  "language_info": {
   "codemirror_mode": {
    "name": "ipython",
    "version": 3
   },
   "file_extension": ".py",
   "mimetype": "text/x-python",
   "name": "python",
   "nbconvert_exporter": "python",
   "pygments_lexer": "ipython3",
   "version": "3.11.2"
  },
  "orig_nbformat": 4,
  "vscode": {
   "interpreter": {
    "hash": "e7370f93d1d0cde622a1f8e1c04877d8463912d04d973331ad4851f04de6915a"
   }
  }
 },
 "nbformat": 4,
 "nbformat_minor": 2
}
